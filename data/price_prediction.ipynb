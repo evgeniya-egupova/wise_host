{
  "nbformat": 4,
  "nbformat_minor": 0,
  "metadata": {
    "kernelspec": {
      "display_name": "Python 3",
      "language": "python",
      "name": "python3"
    },
    "language_info": {
      "name": "python",
      "version": "3.6.4",
      "mimetype": "text/x-python",
      "codemirror_mode": {
        "name": "ipython",
        "version": 3
      },
      "pygments_lexer": "ipython3",
      "nbconvert_exporter": "python",
      "file_extension": ".py"
    },
    "colab": {
      "name": " price_prediction.ipynb",
      "provenance": [],
      "collapsed_sections": []
    }
  },
  "cells": [
    {
      "cell_type": "code",
      "metadata": {
        "trusted": true,
        "id": "hZoslotCTLBW"
      },
      "source": [
        "from sklearn import preprocessing, metrics\n",
        "from sklearn.linear_model import LinearRegression\n",
        "from sklearn.linear_model import Lasso\n",
        "from sklearn.ensemble import RandomForestRegressor\n",
        "from sklearn.model_selection import train_test_split\n",
        "import numpy as np\n",
        "import pandas as pd\n",
        "import seaborn as sns\n",
        "import matplotlib.pyplot as plt\n",
        "sns.set(style=\"ticks\", color_codes=True)\n",
        "import statsmodels.api as sm\n",
        "from scipy import stats"
      ],
      "execution_count": null,
      "outputs": []
    },
    {
      "cell_type": "markdown",
      "metadata": {
        "id": "8cnEsRoCTLBW"
      },
      "source": [
        "# Loading the data"
      ]
    },
    {
      "cell_type": "code",
      "metadata": {
        "trusted": true,
        "id": "kwigV-bNTLBX"
      },
      "source": [
        "dataset = pd.read_csv(\"../input/new-york-city-airbnb-open-data/AB_NYC_2019.csv\")"
      ],
      "execution_count": null,
      "outputs": []
    },
    {
      "cell_type": "code",
      "metadata": {
        "trusted": true,
        "id": "hDQ9x8IsTLBX",
        "outputId": "515edada-3019-4dd3-a3d6-5dc139170ec6"
      },
      "source": [
        "dataset"
      ],
      "execution_count": null,
      "outputs": [
        {
          "output_type": "execute_result",
          "data": {
            "text/plain": [
              "             id                                               name   host_id  \\\n",
              "0          2539                 Clean & quiet apt home by the park      2787   \n",
              "1          2595                              Skylit Midtown Castle      2845   \n",
              "2          3647                THE VILLAGE OF HARLEM....NEW YORK !      4632   \n",
              "3          3831                    Cozy Entire Floor of Brownstone      4869   \n",
              "4          5022   Entire Apt: Spacious Studio/Loft by central park      7192   \n",
              "...         ...                                                ...       ...   \n",
              "48890  36484665    Charming one bedroom - newly renovated rowhouse   8232441   \n",
              "48891  36485057      Affordable room in Bushwick/East Williamsburg   6570630   \n",
              "48892  36485431            Sunny Studio at Historical Neighborhood  23492952   \n",
              "48893  36485609               43rd St. Time Square-cozy single bed  30985759   \n",
              "48894  36487245  Trendy duplex in the very heart of Hell's Kitchen  68119814   \n",
              "\n",
              "           host_name neighbourhood_group       neighbourhood  latitude  \\\n",
              "0               John            Brooklyn          Kensington  40.64749   \n",
              "1           Jennifer           Manhattan             Midtown  40.75362   \n",
              "2          Elisabeth           Manhattan              Harlem  40.80902   \n",
              "3        LisaRoxanne            Brooklyn        Clinton Hill  40.68514   \n",
              "4              Laura           Manhattan         East Harlem  40.79851   \n",
              "...              ...                 ...                 ...       ...   \n",
              "48890        Sabrina            Brooklyn  Bedford-Stuyvesant  40.67853   \n",
              "48891        Marisol            Brooklyn            Bushwick  40.70184   \n",
              "48892  Ilgar & Aysel           Manhattan              Harlem  40.81475   \n",
              "48893            Taz           Manhattan      Hell's Kitchen  40.75751   \n",
              "48894     Christophe           Manhattan      Hell's Kitchen  40.76404   \n",
              "\n",
              "       longitude        room_type  price  minimum_nights  number_of_reviews  \\\n",
              "0      -73.97237     Private room    149               1                  9   \n",
              "1      -73.98377  Entire home/apt    225               1                 45   \n",
              "2      -73.94190     Private room    150               3                  0   \n",
              "3      -73.95976  Entire home/apt     89               1                270   \n",
              "4      -73.94399  Entire home/apt     80              10                  9   \n",
              "...          ...              ...    ...             ...                ...   \n",
              "48890  -73.94995     Private room     70               2                  0   \n",
              "48891  -73.93317     Private room     40               4                  0   \n",
              "48892  -73.94867  Entire home/apt    115              10                  0   \n",
              "48893  -73.99112      Shared room     55               1                  0   \n",
              "48894  -73.98933     Private room     90               7                  0   \n",
              "\n",
              "      last_review  reviews_per_month  calculated_host_listings_count  \\\n",
              "0      2018-10-19               0.21                               6   \n",
              "1      2019-05-21               0.38                               2   \n",
              "2             NaN                NaN                               1   \n",
              "3      2019-07-05               4.64                               1   \n",
              "4      2018-11-19               0.10                               1   \n",
              "...           ...                ...                             ...   \n",
              "48890         NaN                NaN                               2   \n",
              "48891         NaN                NaN                               2   \n",
              "48892         NaN                NaN                               1   \n",
              "48893         NaN                NaN                               6   \n",
              "48894         NaN                NaN                               1   \n",
              "\n",
              "       availability_365  \n",
              "0                   365  \n",
              "1                   355  \n",
              "2                   365  \n",
              "3                   194  \n",
              "4                     0  \n",
              "...                 ...  \n",
              "48890                 9  \n",
              "48891                36  \n",
              "48892                27  \n",
              "48893                 2  \n",
              "48894                23  \n",
              "\n",
              "[48895 rows x 16 columns]"
            ],
            "text/html": [
              "<div>\n",
              "<style scoped>\n",
              "    .dataframe tbody tr th:only-of-type {\n",
              "        vertical-align: middle;\n",
              "    }\n",
              "\n",
              "    .dataframe tbody tr th {\n",
              "        vertical-align: top;\n",
              "    }\n",
              "\n",
              "    .dataframe thead th {\n",
              "        text-align: right;\n",
              "    }\n",
              "</style>\n",
              "<table border=\"1\" class=\"dataframe\">\n",
              "  <thead>\n",
              "    <tr style=\"text-align: right;\">\n",
              "      <th></th>\n",
              "      <th>id</th>\n",
              "      <th>name</th>\n",
              "      <th>host_id</th>\n",
              "      <th>host_name</th>\n",
              "      <th>neighbourhood_group</th>\n",
              "      <th>neighbourhood</th>\n",
              "      <th>latitude</th>\n",
              "      <th>longitude</th>\n",
              "      <th>room_type</th>\n",
              "      <th>price</th>\n",
              "      <th>minimum_nights</th>\n",
              "      <th>number_of_reviews</th>\n",
              "      <th>last_review</th>\n",
              "      <th>reviews_per_month</th>\n",
              "      <th>calculated_host_listings_count</th>\n",
              "      <th>availability_365</th>\n",
              "    </tr>\n",
              "  </thead>\n",
              "  <tbody>\n",
              "    <tr>\n",
              "      <th>0</th>\n",
              "      <td>2539</td>\n",
              "      <td>Clean &amp; quiet apt home by the park</td>\n",
              "      <td>2787</td>\n",
              "      <td>John</td>\n",
              "      <td>Brooklyn</td>\n",
              "      <td>Kensington</td>\n",
              "      <td>40.64749</td>\n",
              "      <td>-73.97237</td>\n",
              "      <td>Private room</td>\n",
              "      <td>149</td>\n",
              "      <td>1</td>\n",
              "      <td>9</td>\n",
              "      <td>2018-10-19</td>\n",
              "      <td>0.21</td>\n",
              "      <td>6</td>\n",
              "      <td>365</td>\n",
              "    </tr>\n",
              "    <tr>\n",
              "      <th>1</th>\n",
              "      <td>2595</td>\n",
              "      <td>Skylit Midtown Castle</td>\n",
              "      <td>2845</td>\n",
              "      <td>Jennifer</td>\n",
              "      <td>Manhattan</td>\n",
              "      <td>Midtown</td>\n",
              "      <td>40.75362</td>\n",
              "      <td>-73.98377</td>\n",
              "      <td>Entire home/apt</td>\n",
              "      <td>225</td>\n",
              "      <td>1</td>\n",
              "      <td>45</td>\n",
              "      <td>2019-05-21</td>\n",
              "      <td>0.38</td>\n",
              "      <td>2</td>\n",
              "      <td>355</td>\n",
              "    </tr>\n",
              "    <tr>\n",
              "      <th>2</th>\n",
              "      <td>3647</td>\n",
              "      <td>THE VILLAGE OF HARLEM....NEW YORK !</td>\n",
              "      <td>4632</td>\n",
              "      <td>Elisabeth</td>\n",
              "      <td>Manhattan</td>\n",
              "      <td>Harlem</td>\n",
              "      <td>40.80902</td>\n",
              "      <td>-73.94190</td>\n",
              "      <td>Private room</td>\n",
              "      <td>150</td>\n",
              "      <td>3</td>\n",
              "      <td>0</td>\n",
              "      <td>NaN</td>\n",
              "      <td>NaN</td>\n",
              "      <td>1</td>\n",
              "      <td>365</td>\n",
              "    </tr>\n",
              "    <tr>\n",
              "      <th>3</th>\n",
              "      <td>3831</td>\n",
              "      <td>Cozy Entire Floor of Brownstone</td>\n",
              "      <td>4869</td>\n",
              "      <td>LisaRoxanne</td>\n",
              "      <td>Brooklyn</td>\n",
              "      <td>Clinton Hill</td>\n",
              "      <td>40.68514</td>\n",
              "      <td>-73.95976</td>\n",
              "      <td>Entire home/apt</td>\n",
              "      <td>89</td>\n",
              "      <td>1</td>\n",
              "      <td>270</td>\n",
              "      <td>2019-07-05</td>\n",
              "      <td>4.64</td>\n",
              "      <td>1</td>\n",
              "      <td>194</td>\n",
              "    </tr>\n",
              "    <tr>\n",
              "      <th>4</th>\n",
              "      <td>5022</td>\n",
              "      <td>Entire Apt: Spacious Studio/Loft by central park</td>\n",
              "      <td>7192</td>\n",
              "      <td>Laura</td>\n",
              "      <td>Manhattan</td>\n",
              "      <td>East Harlem</td>\n",
              "      <td>40.79851</td>\n",
              "      <td>-73.94399</td>\n",
              "      <td>Entire home/apt</td>\n",
              "      <td>80</td>\n",
              "      <td>10</td>\n",
              "      <td>9</td>\n",
              "      <td>2018-11-19</td>\n",
              "      <td>0.10</td>\n",
              "      <td>1</td>\n",
              "      <td>0</td>\n",
              "    </tr>\n",
              "    <tr>\n",
              "      <th>...</th>\n",
              "      <td>...</td>\n",
              "      <td>...</td>\n",
              "      <td>...</td>\n",
              "      <td>...</td>\n",
              "      <td>...</td>\n",
              "      <td>...</td>\n",
              "      <td>...</td>\n",
              "      <td>...</td>\n",
              "      <td>...</td>\n",
              "      <td>...</td>\n",
              "      <td>...</td>\n",
              "      <td>...</td>\n",
              "      <td>...</td>\n",
              "      <td>...</td>\n",
              "      <td>...</td>\n",
              "      <td>...</td>\n",
              "    </tr>\n",
              "    <tr>\n",
              "      <th>48890</th>\n",
              "      <td>36484665</td>\n",
              "      <td>Charming one bedroom - newly renovated rowhouse</td>\n",
              "      <td>8232441</td>\n",
              "      <td>Sabrina</td>\n",
              "      <td>Brooklyn</td>\n",
              "      <td>Bedford-Stuyvesant</td>\n",
              "      <td>40.67853</td>\n",
              "      <td>-73.94995</td>\n",
              "      <td>Private room</td>\n",
              "      <td>70</td>\n",
              "      <td>2</td>\n",
              "      <td>0</td>\n",
              "      <td>NaN</td>\n",
              "      <td>NaN</td>\n",
              "      <td>2</td>\n",
              "      <td>9</td>\n",
              "    </tr>\n",
              "    <tr>\n",
              "      <th>48891</th>\n",
              "      <td>36485057</td>\n",
              "      <td>Affordable room in Bushwick/East Williamsburg</td>\n",
              "      <td>6570630</td>\n",
              "      <td>Marisol</td>\n",
              "      <td>Brooklyn</td>\n",
              "      <td>Bushwick</td>\n",
              "      <td>40.70184</td>\n",
              "      <td>-73.93317</td>\n",
              "      <td>Private room</td>\n",
              "      <td>40</td>\n",
              "      <td>4</td>\n",
              "      <td>0</td>\n",
              "      <td>NaN</td>\n",
              "      <td>NaN</td>\n",
              "      <td>2</td>\n",
              "      <td>36</td>\n",
              "    </tr>\n",
              "    <tr>\n",
              "      <th>48892</th>\n",
              "      <td>36485431</td>\n",
              "      <td>Sunny Studio at Historical Neighborhood</td>\n",
              "      <td>23492952</td>\n",
              "      <td>Ilgar &amp; Aysel</td>\n",
              "      <td>Manhattan</td>\n",
              "      <td>Harlem</td>\n",
              "      <td>40.81475</td>\n",
              "      <td>-73.94867</td>\n",
              "      <td>Entire home/apt</td>\n",
              "      <td>115</td>\n",
              "      <td>10</td>\n",
              "      <td>0</td>\n",
              "      <td>NaN</td>\n",
              "      <td>NaN</td>\n",
              "      <td>1</td>\n",
              "      <td>27</td>\n",
              "    </tr>\n",
              "    <tr>\n",
              "      <th>48893</th>\n",
              "      <td>36485609</td>\n",
              "      <td>43rd St. Time Square-cozy single bed</td>\n",
              "      <td>30985759</td>\n",
              "      <td>Taz</td>\n",
              "      <td>Manhattan</td>\n",
              "      <td>Hell's Kitchen</td>\n",
              "      <td>40.75751</td>\n",
              "      <td>-73.99112</td>\n",
              "      <td>Shared room</td>\n",
              "      <td>55</td>\n",
              "      <td>1</td>\n",
              "      <td>0</td>\n",
              "      <td>NaN</td>\n",
              "      <td>NaN</td>\n",
              "      <td>6</td>\n",
              "      <td>2</td>\n",
              "    </tr>\n",
              "    <tr>\n",
              "      <th>48894</th>\n",
              "      <td>36487245</td>\n",
              "      <td>Trendy duplex in the very heart of Hell's Kitchen</td>\n",
              "      <td>68119814</td>\n",
              "      <td>Christophe</td>\n",
              "      <td>Manhattan</td>\n",
              "      <td>Hell's Kitchen</td>\n",
              "      <td>40.76404</td>\n",
              "      <td>-73.98933</td>\n",
              "      <td>Private room</td>\n",
              "      <td>90</td>\n",
              "      <td>7</td>\n",
              "      <td>0</td>\n",
              "      <td>NaN</td>\n",
              "      <td>NaN</td>\n",
              "      <td>1</td>\n",
              "      <td>23</td>\n",
              "    </tr>\n",
              "  </tbody>\n",
              "</table>\n",
              "<p>48895 rows × 16 columns</p>\n",
              "</div>"
            ]
          },
          "metadata": {
            "tags": []
          },
          "execution_count": 4
        }
      ]
    },
    {
      "cell_type": "code",
      "metadata": {
        "trusted": true,
        "id": "FDT60ii9TLBZ",
        "outputId": "45de48e4-b92a-4a7d-e1a5-a6a8c41996cb"
      },
      "source": [
        "\n",
        "dataset.dtypes"
      ],
      "execution_count": null,
      "outputs": [
        {
          "output_type": "execute_result",
          "data": {
            "text/plain": [
              "id                                  int64\n",
              "name                               object\n",
              "host_id                             int64\n",
              "host_name                          object\n",
              "neighbourhood_group                object\n",
              "neighbourhood                      object\n",
              "latitude                          float64\n",
              "longitude                         float64\n",
              "room_type                          object\n",
              "price                               int64\n",
              "minimum_nights                      int64\n",
              "number_of_reviews                   int64\n",
              "last_review                        object\n",
              "reviews_per_month                 float64\n",
              "calculated_host_listings_count      int64\n",
              "availability_365                    int64\n",
              "dtype: object"
            ]
          },
          "metadata": {
            "tags": []
          },
          "execution_count": 5
        }
      ]
    },
    {
      "cell_type": "code",
      "metadata": {
        "trusted": true,
        "id": "rqW376A8TLBZ",
        "outputId": "bc25b345-242e-4ff5-db7e-6b166b260555"
      },
      "source": [
        "\n",
        "dataset.isnull().sum()"
      ],
      "execution_count": null,
      "outputs": [
        {
          "output_type": "execute_result",
          "data": {
            "text/plain": [
              "id                                    0\n",
              "name                                 16\n",
              "host_id                               0\n",
              "host_name                            21\n",
              "neighbourhood_group                   0\n",
              "neighbourhood                         0\n",
              "latitude                              0\n",
              "longitude                             0\n",
              "room_type                             0\n",
              "price                                 0\n",
              "minimum_nights                        0\n",
              "number_of_reviews                     0\n",
              "last_review                       10052\n",
              "reviews_per_month                 10052\n",
              "calculated_host_listings_count        0\n",
              "availability_365                      0\n",
              "dtype: int64"
            ]
          },
          "metadata": {
            "tags": []
          },
          "execution_count": 6
        }
      ]
    },
    {
      "cell_type": "code",
      "metadata": {
        "trusted": true,
        "id": "NekSYBZaTLBa"
      },
      "source": [
        "\n",
        "dataset.fillna({'reviews_per_month':0}, inplace=True)\n",
        "dataset.fillna({'name':\"NoName\"}, inplace=True)\n",
        "dataset.fillna({'host_name':\"NoName\"}, inplace=True)\n",
        "dataset.fillna({'last_review':\"NotReviewed\"}, inplace=True)\n"
      ],
      "execution_count": null,
      "outputs": []
    },
    {
      "cell_type": "code",
      "metadata": {
        "trusted": true,
        "id": "HdDnGB4ATLBb",
        "outputId": "74561487-854b-4711-8f95-950f6f185ffe"
      },
      "source": [
        "\n",
        "dataset.isnull().sum()"
      ],
      "execution_count": null,
      "outputs": [
        {
          "output_type": "execute_result",
          "data": {
            "text/plain": [
              "id                                0\n",
              "name                              0\n",
              "host_id                           0\n",
              "host_name                         0\n",
              "neighbourhood_group               0\n",
              "neighbourhood                     0\n",
              "latitude                          0\n",
              "longitude                         0\n",
              "room_type                         0\n",
              "price                             0\n",
              "minimum_nights                    0\n",
              "number_of_reviews                 0\n",
              "last_review                       0\n",
              "reviews_per_month                 0\n",
              "calculated_host_listings_count    0\n",
              "availability_365                  0\n",
              "dtype: int64"
            ]
          },
          "metadata": {
            "tags": []
          },
          "execution_count": 8
        }
      ]
    },
    {
      "cell_type": "code",
      "metadata": {
        "trusted": true,
        "id": "MdS4H-QRTLBc",
        "outputId": "5154ca8d-738c-47a0-c884-fd2d4e3c39d1"
      },
      "source": [
        "\n",
        "hist_price=dataset[\"price\"].hist()"
      ],
      "execution_count": null,
      "outputs": [
        {
          "output_type": "display_data",
          "data": {
            "text/plain": [
              "<Figure size 432x288 with 1 Axes>"
            ],
            "image/png": "[encoded data removed]"
          },
          "metadata": {
            "tags": []
          }
        }
      ]
    },
    {
      "cell_type": "code",
      "metadata": {
        "trusted": true,
        "id": "974pFYGFTLBc",
        "outputId": "9dde0c15-3add-4ca0-99ed-594e9c13e725"
      },
      "source": [
        "\n",
        "hist_price1=dataset[\"price\"][dataset[\"price\"]<1000].hist()\n"
      ],
      "execution_count": null,
      "outputs": [
        {
          "output_type": "display_data",
          "data": {
            "text/plain": [
              "<Figure size 432x288 with 1 Axes>"
            ],
            "image/png": "[encoded data removed]"
          },
          "metadata": {
            "tags": []
          }
        }
      ]
    },
    {
      "cell_type": "code",
      "metadata": {
        "trusted": true,
        "id": "WLB2wd7LTLBe",
        "outputId": "1e771a9b-14e8-456b-8ff9-c41a865fa144"
      },
      "source": [
        "\n",
        "dataset[dataset[\"price\"]>1000]\n"
      ],
      "execution_count": null,
      "outputs": [
        {
          "output_type": "execute_result",
          "data": {
            "text/plain": [
              "             id                                               name    host_id  \\\n",
              "496      174966              Luxury 2Bed/2.5Bath Central Park View     836168   \n",
              "762      273190          6 Bedroom Landmark West Village Townhouse     605463   \n",
              "946      363673                   Beautiful 3 bedroom in Manhattan     256239   \n",
              "1105     468613   $ (Phone number hidden by Airbnb) weeks - room f    2325861   \n",
              "1480     664047                Lux 2Bed/2.5Bath Central Park Views     836168   \n",
              "...         ...                                                ...        ...   \n",
              "48080  36074198             Luxury apartment 2 min to times square  203565865   \n",
              "48304  36189195      Next to Times Square/Javits/MSG! Amazing 1BR!  270214015   \n",
              "48305  36189257             2BR Near Museum Mile! Upper East Side!  272166348   \n",
              "48523  36308562  Tasteful & Trendy Brooklyn Brownstone, near Train  217732163   \n",
              "48535  36311055     Stunning & Stylish Brooklyn Luxury, near Train  245712163   \n",
              "\n",
              "          host_name neighbourhood_group       neighbourhood  latitude  \\\n",
              "496           Henry           Manhattan     Upper West Side  40.77350   \n",
              "762    West Village           Manhattan        West Village  40.73301   \n",
              "946          Tracey           Manhattan     Upper West Side  40.80142   \n",
              "1105        Cynthia           Manhattan     Lower East Side  40.72152   \n",
              "1480          Henry           Manhattan     Upper West Side  40.77516   \n",
              "...             ...                 ...                 ...       ...   \n",
              "48080      Vinícius           Manhattan                SoHo  40.72060   \n",
              "48304       Rogelio           Manhattan      Hell's Kitchen  40.75533   \n",
              "48305   Mary Rotsen           Manhattan     Upper East Side  40.78132   \n",
              "48523         Sandy            Brooklyn  Bedford-Stuyvesant  40.68767   \n",
              "48535       Urvashi            Brooklyn  Bedford-Stuyvesant  40.68245   \n",
              "\n",
              "       longitude        room_type  price  minimum_nights  number_of_reviews  \\\n",
              "496    -73.98697  Entire home/apt   2000              30                 30   \n",
              "762    -74.00268  Entire home/apt   1300               5                 28   \n",
              "946    -73.96931     Private room   3000               7                  0   \n",
              "1105   -73.99279     Private room   1300               1                  0   \n",
              "1480   -73.98573  Entire home/apt   2000              30                 59   \n",
              "...          ...              ...    ...             ...                ...   \n",
              "48080  -74.00023  Entire home/apt   1308               2                  0   \n",
              "48304  -73.99866  Entire home/apt   2999              30                  0   \n",
              "48305  -73.95262  Entire home/apt   1999              30                  0   \n",
              "48523  -73.95805  Entire home/apt   1369               1                  0   \n",
              "48535  -73.93417  Entire home/apt   1749               1                  0   \n",
              "\n",
              "       last_review  reviews_per_month  calculated_host_listings_count  \\\n",
              "496     2018-05-05               0.33                              11   \n",
              "762     2018-09-25               0.31                               4   \n",
              "946    NotReviewed               0.00                               1   \n",
              "1105   NotReviewed               0.00                               1   \n",
              "1480    2016-01-28               0.71                              11   \n",
              "...            ...                ...                             ...   \n",
              "48080  NotReviewed               0.00                               1   \n",
              "48304  NotReviewed               0.00                               1   \n",
              "48305  NotReviewed               0.00                               1   \n",
              "48523  NotReviewed               0.00                               1   \n",
              "48535  NotReviewed               0.00                               1   \n",
              "\n",
              "       availability_365  \n",
              "496                   0  \n",
              "762                 297  \n",
              "946                 365  \n",
              "1105                  0  \n",
              "1480                364  \n",
              "...                 ...  \n",
              "48080               179  \n",
              "48304               222  \n",
              "48305               270  \n",
              "48523               349  \n",
              "48535               303  \n",
              "\n",
              "[239 rows x 16 columns]"
            ],
            "text/html": [
              "<div>\n",
              "<style scoped>\n",
              "    .dataframe tbody tr th:only-of-type {\n",
              "        vertical-align: middle;\n",
              "    }\n",
              "\n",
              "    .dataframe tbody tr th {\n",
              "        vertical-align: top;\n",
              "    }\n",
              "\n",
              "    .dataframe thead th {\n",
              "        text-align: right;\n",
              "    }\n",
              "</style>\n",
              "<table border=\"1\" class=\"dataframe\">\n",
              "  <thead>\n",
              "    <tr style=\"text-align: right;\">\n",
              "      <th></th>\n",
              "      <th>id</th>\n",
              "      <th>name</th>\n",
              "      <th>host_id</th>\n",
              "      <th>host_name</th>\n",
              "      <th>neighbourhood_group</th>\n",
              "      <th>neighbourhood</th>\n",
              "      <th>latitude</th>\n",
              "      <th>longitude</th>\n",
              "      <th>room_type</th>\n",
              "      <th>price</th>\n",
              "      <th>minimum_nights</th>\n",
              "      <th>number_of_reviews</th>\n",
              "      <th>last_review</th>\n",
              "      <th>reviews_per_month</th>\n",
              "      <th>calculated_host_listings_count</th>\n",
              "      <th>availability_365</th>\n",
              "    </tr>\n",
              "  </thead>\n",
              "  <tbody>\n",
              "    <tr>\n",
              "      <th>496</th>\n",
              "      <td>174966</td>\n",
              "      <td>Luxury 2Bed/2.5Bath Central Park View</td>\n",
              "      <td>836168</td>\n",
              "      <td>Henry</td>\n",
              "      <td>Manhattan</td>\n",
              "      <td>Upper West Side</td>\n",
              "      <td>40.77350</td>\n",
              "      <td>-73.98697</td>\n",
              "      <td>Entire home/apt</td>\n",
              "      <td>2000</td>\n",
              "      <td>30</td>\n",
              "      <td>30</td>\n",
              "      <td>2018-05-05</td>\n",
              "      <td>0.33</td>\n",
              "      <td>11</td>\n",
              "      <td>0</td>\n",
              "    </tr>\n",
              "    <tr>\n",
              "      <th>762</th>\n",
              "      <td>273190</td>\n",
              "      <td>6 Bedroom Landmark West Village Townhouse</td>\n",
              "      <td>605463</td>\n",
              "      <td>West Village</td>\n",
              "      <td>Manhattan</td>\n",
              "      <td>West Village</td>\n",
              "      <td>40.73301</td>\n",
              "      <td>-74.00268</td>\n",
              "      <td>Entire home/apt</td>\n",
              "      <td>1300</td>\n",
              "      <td>5</td>\n",
              "      <td>28</td>\n",
              "      <td>2018-09-25</td>\n",
              "      <td>0.31</td>\n",
              "      <td>4</td>\n",
              "      <td>297</td>\n",
              "    </tr>\n",
              "    <tr>\n",
              "      <th>946</th>\n",
              "      <td>363673</td>\n",
              "      <td>Beautiful 3 bedroom in Manhattan</td>\n",
              "      <td>256239</td>\n",
              "      <td>Tracey</td>\n",
              "      <td>Manhattan</td>\n",
              "      <td>Upper West Side</td>\n",
              "      <td>40.80142</td>\n",
              "      <td>-73.96931</td>\n",
              "      <td>Private room</td>\n",
              "      <td>3000</td>\n",
              "      <td>7</td>\n",
              "      <td>0</td>\n",
              "      <td>NotReviewed</td>\n",
              "      <td>0.00</td>\n",
              "      <td>1</td>\n",
              "      <td>365</td>\n",
              "    </tr>\n",
              "    <tr>\n",
              "      <th>1105</th>\n",
              "      <td>468613</td>\n",
              "      <td>$ (Phone number hidden by Airbnb) weeks - room f</td>\n",
              "      <td>2325861</td>\n",
              "      <td>Cynthia</td>\n",
              "      <td>Manhattan</td>\n",
              "      <td>Lower East Side</td>\n",
              "      <td>40.72152</td>\n",
              "      <td>-73.99279</td>\n",
              "      <td>Private room</td>\n",
              "      <td>1300</td>\n",
              "      <td>1</td>\n",
              "      <td>0</td>\n",
              "      <td>NotReviewed</td>\n",
              "      <td>0.00</td>\n",
              "      <td>1</td>\n",
              "      <td>0</td>\n",
              "    </tr>\n",
              "    <tr>\n",
              "      <th>1480</th>\n",
              "      <td>664047</td>\n",
              "      <td>Lux 2Bed/2.5Bath Central Park Views</td>\n",
              "      <td>836168</td>\n",
              "      <td>Henry</td>\n",
              "      <td>Manhattan</td>\n",
              "      <td>Upper West Side</td>\n",
              "      <td>40.77516</td>\n",
              "      <td>-73.98573</td>\n",
              "      <td>Entire home/apt</td>\n",
              "      <td>2000</td>\n",
              "      <td>30</td>\n",
              "      <td>59</td>\n",
              "      <td>2016-01-28</td>\n",
              "      <td>0.71</td>\n",
              "      <td>11</td>\n",
              "      <td>364</td>\n",
              "    </tr>\n",
              "    <tr>\n",
              "      <th>...</th>\n",
              "      <td>...</td>\n",
              "      <td>...</td>\n",
              "      <td>...</td>\n",
              "      <td>...</td>\n",
              "      <td>...</td>\n",
              "      <td>...</td>\n",
              "      <td>...</td>\n",
              "      <td>...</td>\n",
              "      <td>...</td>\n",
              "      <td>...</td>\n",
              "      <td>...</td>\n",
              "      <td>...</td>\n",
              "      <td>...</td>\n",
              "      <td>...</td>\n",
              "      <td>...</td>\n",
              "      <td>...</td>\n",
              "    </tr>\n",
              "    <tr>\n",
              "      <th>48080</th>\n",
              "      <td>36074198</td>\n",
              "      <td>Luxury apartment 2 min to times square</td>\n",
              "      <td>203565865</td>\n",
              "      <td>Vinícius</td>\n",
              "      <td>Manhattan</td>\n",
              "      <td>SoHo</td>\n",
              "      <td>40.72060</td>\n",
              "      <td>-74.00023</td>\n",
              "      <td>Entire home/apt</td>\n",
              "      <td>1308</td>\n",
              "      <td>2</td>\n",
              "      <td>0</td>\n",
              "      <td>NotReviewed</td>\n",
              "      <td>0.00</td>\n",
              "      <td>1</td>\n",
              "      <td>179</td>\n",
              "    </tr>\n",
              "    <tr>\n",
              "      <th>48304</th>\n",
              "      <td>36189195</td>\n",
              "      <td>Next to Times Square/Javits/MSG! Amazing 1BR!</td>\n",
              "      <td>270214015</td>\n",
              "      <td>Rogelio</td>\n",
              "      <td>Manhattan</td>\n",
              "      <td>Hell's Kitchen</td>\n",
              "      <td>40.75533</td>\n",
              "      <td>-73.99866</td>\n",
              "      <td>Entire home/apt</td>\n",
              "      <td>2999</td>\n",
              "      <td>30</td>\n",
              "      <td>0</td>\n",
              "      <td>NotReviewed</td>\n",
              "      <td>0.00</td>\n",
              "      <td>1</td>\n",
              "      <td>222</td>\n",
              "    </tr>\n",
              "    <tr>\n",
              "      <th>48305</th>\n",
              "      <td>36189257</td>\n",
              "      <td>2BR Near Museum Mile! Upper East Side!</td>\n",
              "      <td>272166348</td>\n",
              "      <td>Mary Rotsen</td>\n",
              "      <td>Manhattan</td>\n",
              "      <td>Upper East Side</td>\n",
              "      <td>40.78132</td>\n",
              "      <td>-73.95262</td>\n",
              "      <td>Entire home/apt</td>\n",
              "      <td>1999</td>\n",
              "      <td>30</td>\n",
              "      <td>0</td>\n",
              "      <td>NotReviewed</td>\n",
              "      <td>0.00</td>\n",
              "      <td>1</td>\n",
              "      <td>270</td>\n",
              "    </tr>\n",
              "    <tr>\n",
              "      <th>48523</th>\n",
              "      <td>36308562</td>\n",
              "      <td>Tasteful &amp; Trendy Brooklyn Brownstone, near Train</td>\n",
              "      <td>217732163</td>\n",
              "      <td>Sandy</td>\n",
              "      <td>Brooklyn</td>\n",
              "      <td>Bedford-Stuyvesant</td>\n",
              "      <td>40.68767</td>\n",
              "      <td>-73.95805</td>\n",
              "      <td>Entire home/apt</td>\n",
              "      <td>1369</td>\n",
              "      <td>1</td>\n",
              "      <td>0</td>\n",
              "      <td>NotReviewed</td>\n",
              "      <td>0.00</td>\n",
              "      <td>1</td>\n",
              "      <td>349</td>\n",
              "    </tr>\n",
              "    <tr>\n",
              "      <th>48535</th>\n",
              "      <td>36311055</td>\n",
              "      <td>Stunning &amp; Stylish Brooklyn Luxury, near Train</td>\n",
              "      <td>245712163</td>\n",
              "      <td>Urvashi</td>\n",
              "      <td>Brooklyn</td>\n",
              "      <td>Bedford-Stuyvesant</td>\n",
              "      <td>40.68245</td>\n",
              "      <td>-73.93417</td>\n",
              "      <td>Entire home/apt</td>\n",
              "      <td>1749</td>\n",
              "      <td>1</td>\n",
              "      <td>0</td>\n",
              "      <td>NotReviewed</td>\n",
              "      <td>0.00</td>\n",
              "      <td>1</td>\n",
              "      <td>303</td>\n",
              "    </tr>\n",
              "  </tbody>\n",
              "</table>\n",
              "<p>239 rows × 16 columns</p>\n",
              "</div>"
            ]
          },
          "metadata": {
            "tags": []
          },
          "execution_count": 12
        }
      ]
    },
    {
      "cell_type": "code",
      "metadata": {
        "trusted": true,
        "id": "lgO53-GkTLBe"
      },
      "source": [
        "dataset=dataset[dataset[\"price\"]<1000]"
      ],
      "execution_count": null,
      "outputs": []
    },
    {
      "cell_type": "code",
      "metadata": {
        "trusted": true,
        "id": "V73bg8ZyTLBf",
        "outputId": "7f164f3f-6980-4cad-d099-8d7b2e0be429"
      },
      "source": [
        "\n",
        "hist_price2=dataset[\"price\"][dataset[\"price\"]<250].hist()\n"
      ],
      "execution_count": null,
      "outputs": [
        {
          "output_type": "display_data",
          "data": {
            "text/plain": [
              "<Figure size 432x288 with 1 Axes>"
            ],
            "image/png": "[encoded data removed]"
          },
          "metadata": {
            "tags": []
          }
        }
      ]
    },
    {
      "cell_type": "code",
      "metadata": {
        "trusted": true,
        "id": "Nyz3uCiFTLBf"
      },
      "source": [
        "\n",
        "dataset=dataset[dataset[\"price\"]<250]"
      ],
      "execution_count": null,
      "outputs": []
    },
    {
      "cell_type": "code",
      "metadata": {
        "trusted": true,
        "id": "62TwfneWTLBf",
        "outputId": "51d6d44f-e4e0-41fe-c005-f7f80f1a2744"
      },
      "source": [
        "\n",
        "dataset[\"price\"].describe()\n"
      ],
      "execution_count": null,
      "outputs": [
        {
          "output_type": "execute_result",
          "data": {
            "text/plain": [
              "count    42669.000000\n",
              "mean       107.897748\n",
              "std         53.803457\n",
              "min          0.000000\n",
              "25%         65.000000\n",
              "50%         99.000000\n",
              "75%        150.000000\n",
              "max        249.000000\n",
              "Name: price, dtype: float64"
            ]
          },
          "metadata": {
            "tags": []
          },
          "execution_count": 16
        }
      ]
    },
    {
      "cell_type": "code",
      "metadata": {
        "trusted": true,
        "id": "crGFLTKsTLBf",
        "outputId": "cfadbedf-a86c-45fe-82c4-0738a7d0ac98"
      },
      "source": [
        "\n",
        "dataset['neighbourhood'].value_counts()"
      ],
      "execution_count": null,
      "outputs": [
        {
          "output_type": "execute_result",
          "data": {
            "text/plain": [
              "Bedford-Stuyvesant    3560\n",
              "Williamsburg          3451\n",
              "Harlem                2487\n",
              "Bushwick              2404\n",
              "Upper West Side       1570\n",
              "                      ... \n",
              "Rossville                1\n",
              "Neponsit                 1\n",
              "New Dorp                 1\n",
              "Richmondtown             1\n",
              "Willowbrook              1\n",
              "Name: neighbourhood, Length: 219, dtype: int64"
            ]
          },
          "metadata": {
            "tags": []
          },
          "execution_count": 17
        }
      ]
    },
    {
      "cell_type": "code",
      "metadata": {
        "trusted": true,
        "id": "1F_U-_eLTLBf"
      },
      "source": [
        "\n",
        "dfnh =dataset.groupby(\"neighbourhood\").filter(lambda x: x['neighbourhood'].count() > 200)\n"
      ],
      "execution_count": null,
      "outputs": []
    },
    {
      "cell_type": "code",
      "metadata": {
        "trusted": true,
        "id": "5zNGxgFrTLBg",
        "outputId": "049f4485-032f-4ea7-d34c-ee418680e133"
      },
      "source": [
        "\n",
        "len(dfnh[\"neighbourhood\"])"
      ],
      "execution_count": null,
      "outputs": [
        {
          "output_type": "execute_result",
          "data": {
            "text/plain": [
              "36106"
            ]
          },
          "metadata": {
            "tags": []
          },
          "execution_count": 19
        }
      ]
    },
    {
      "cell_type": "code",
      "metadata": {
        "trusted": true,
        "id": "PMiFHB1ZTLBg",
        "outputId": "98712166-f5e0-4556-8ee1-c4d478fac9cc"
      },
      "source": [
        "\n",
        "dfnh =dataset.groupby(\"neighbourhood\").filter(lambda x: x['neighbourhood'].count() == 1)\n",
        "len(dfnh[\"neighbourhood\"])"
      ],
      "execution_count": null,
      "outputs": [
        {
          "output_type": "execute_result",
          "data": {
            "text/plain": [
              "5"
            ]
          },
          "metadata": {
            "tags": []
          },
          "execution_count": 20
        }
      ]
    },
    {
      "cell_type": "code",
      "metadata": {
        "trusted": true,
        "id": "I0GNPZgHTLBg",
        "outputId": "05c5fefd-bfd0-4f3f-e6d0-14c206e78f37"
      },
      "source": [
        "\n",
        "dataset['neighbourhood_group'].value_counts()\n"
      ],
      "execution_count": null,
      "outputs": [
        {
          "output_type": "execute_result",
          "data": {
            "text/plain": [
              "Brooklyn         18581\n",
              "Manhattan        17270\n",
              "Queens            5413\n",
              "Bronx             1052\n",
              "Staten Island      353\n",
              "Name: neighbourhood_group, dtype: int64"
            ]
          },
          "metadata": {
            "tags": []
          },
          "execution_count": 21
        }
      ]
    },
    {
      "cell_type": "markdown",
      "metadata": {
        "id": "nUSqC7TMTLBg"
      },
      "source": [
        "There are five major neighbourhood groups in NYC with Manhattan and Brooklyn accounting for 85% of the listings"
      ]
    },
    {
      "cell_type": "code",
      "metadata": {
        "trusted": true,
        "id": "znhTkHbBTLBg"
      },
      "source": [
        "\n",
        "ng_price=dataset.groupby(\"neighbourhood_group\")[\"price\"].mean()"
      ],
      "execution_count": null,
      "outputs": []
    },
    {
      "cell_type": "code",
      "metadata": {
        "trusted": true,
        "id": "phq605T4TLBh",
        "outputId": "3f390e6e-2a29-486c-9121-c94a701f154b"
      },
      "source": [
        "\n",
        "ng_price"
      ],
      "execution_count": null,
      "outputs": [
        {
          "output_type": "execute_result",
          "data": {
            "text/plain": [
              "neighbourhood_group\n",
              "Bronx             73.796578\n",
              "Brooklyn          98.068134\n",
              "Manhattan        128.670990\n",
              "Queens            83.639941\n",
              "Staten Island     82.606232\n",
              "Name: price, dtype: float64"
            ]
          },
          "metadata": {
            "tags": []
          },
          "execution_count": 23
        }
      ]
    },
    {
      "cell_type": "code",
      "metadata": {
        "trusted": true,
        "id": "GH8gSJBNTLBh",
        "outputId": "7969a517-90b8-4fe8-f4d2-94f53dcfc489"
      },
      "source": [
        "\n",
        "df = dataset.groupby([\"host_id\"])\n",
        "max(df.size())\n"
      ],
      "execution_count": null,
      "outputs": [
        {
          "output_type": "execute_result",
          "data": {
            "text/plain": [
              "238"
            ]
          },
          "metadata": {
            "tags": []
          },
          "execution_count": 25
        }
      ]
    },
    {
      "cell_type": "code",
      "metadata": {
        "trusted": true,
        "id": "tIzp_-phTLBh",
        "outputId": "2ee90ab0-f011-4799-a52c-b51c3cc0b4ff"
      },
      "source": [
        "\n",
        "df.size().value_counts().head()"
      ],
      "execution_count": null,
      "outputs": [
        {
          "output_type": "execute_result",
          "data": {
            "text/plain": [
              "1    28391\n",
              "2     2993\n",
              "3      844\n",
              "4      302\n",
              "5      151\n",
              "dtype: int64"
            ]
          },
          "metadata": {
            "tags": []
          },
          "execution_count": 26
        }
      ]
    },
    {
      "cell_type": "code",
      "metadata": {
        "trusted": true,
        "id": "XBMtol69TLBi",
        "outputId": "3956092a-29a2-4c74-87ad-07d77527d42f"
      },
      "source": [
        "df.size().value_counts().tail()"
      ],
      "execution_count": null,
      "outputs": [
        {
          "output_type": "execute_result",
          "data": {
            "text/plain": [
              "45     1\n",
              "30     1\n",
              "238    1\n",
              "16     1\n",
              "87     1\n",
              "dtype: int64"
            ]
          },
          "metadata": {
            "tags": []
          },
          "execution_count": 27
        }
      ]
    },
    {
      "cell_type": "code",
      "metadata": {
        "trusted": true,
        "id": "kFS92Uu4TLBi",
        "outputId": "04651379-d342-4d38-b2ea-328a9ef945ce"
      },
      "source": [
        "\n",
        "host_id_counts = dataset[\"host_id\"].value_counts()\n",
        "max_host = host_id_counts.idxmax()\n",
        "max_host"
      ],
      "execution_count": null,
      "outputs": [
        {
          "output_type": "execute_result",
          "data": {
            "text/plain": [
              "219517861"
            ]
          },
          "metadata": {
            "tags": []
          },
          "execution_count": 28
        }
      ]
    },
    {
      "cell_type": "code",
      "metadata": {
        "trusted": true,
        "id": "gc958hRgTLBi",
        "outputId": "3dcf9d64-0f89-4c6a-a54b-5953daa127c3"
      },
      "source": [
        "\n",
        "dataset[dataset[\"host_id\"]==219517861]"
      ],
      "execution_count": null,
      "outputs": [
        {
          "output_type": "execute_result",
          "data": {
            "text/plain": [
              "             id                                               name    host_id  \\\n",
              "38294  30181945         Sonder | 180 Water | Premier 1BR + Rooftop  219517861   \n",
              "38588  30347708        Sonder | 180 Water | Charming 1BR + Rooftop  219517861   \n",
              "39771  30937594     Sonder | The Nash | Brilliant Studio + Rooftop  219517861   \n",
              "39772  30937595               Sonder | 11th Ave | Bright 1BR + Gym  219517861   \n",
              "39773  30937596         Sonder | 11th Ave | Contemporary 1BR + Gym  219517861   \n",
              "...         ...                                                ...        ...   \n",
              "47686  35869234              Sonder | 116 John | Classic 1BR + Gym  219517861   \n",
              "47687  35869466           Sonder | 116 John | Classic Studio + Gym  219517861   \n",
              "47691  35871510  Sonder | 116 John | Vibrant Studio + Fitness Room  219517861   \n",
              "47692  35871511     Sonder | 116 John | Vibrant 1BR + Fitness Room  219517861   \n",
              "47693  35871515         Sonder | 116 John | Stunning 1BR + Rooftop  219517861   \n",
              "\n",
              "          host_name neighbourhood_group       neighbourhood  latitude  \\\n",
              "38294  Sonder (NYC)           Manhattan  Financial District  40.70771   \n",
              "38588  Sonder (NYC)           Manhattan  Financial District  40.70743   \n",
              "39771  Sonder (NYC)           Manhattan         Murray Hill  40.74845   \n",
              "39772  Sonder (NYC)           Manhattan      Hell's Kitchen  40.76188   \n",
              "39773  Sonder (NYC)           Manhattan      Hell's Kitchen  40.76037   \n",
              "...             ...                 ...                 ...       ...   \n",
              "47686  Sonder (NYC)           Manhattan  Financial District  40.70852   \n",
              "47687  Sonder (NYC)           Manhattan  Financial District  40.70802   \n",
              "47691  Sonder (NYC)           Manhattan  Financial District  40.70818   \n",
              "47692  Sonder (NYC)           Manhattan  Financial District  40.70691   \n",
              "47693  Sonder (NYC)           Manhattan  Financial District  40.70772   \n",
              "\n",
              "       longitude        room_type  price  minimum_nights  number_of_reviews  \\\n",
              "38294  -74.00641  Entire home/apt    229              29                  1   \n",
              "38588  -74.00443  Entire home/apt    232              29                  1   \n",
              "39771  -73.97446  Entire home/apt    245               2                  4   \n",
              "39772  -73.99616  Entire home/apt    185              29                  1   \n",
              "39773  -73.99744  Entire home/apt    185              29                  1   \n",
              "...          ...              ...    ...             ...                ...   \n",
              "47686  -74.00510  Entire home/apt    198              29                  0   \n",
              "47687  -74.00642  Entire home/apt    180              29                  0   \n",
              "47691  -74.00631  Entire home/apt    135              29                  0   \n",
              "47692  -74.00682  Entire home/apt    165              29                  0   \n",
              "47693  -74.00673  Entire home/apt    165              29                  0   \n",
              "\n",
              "       last_review  reviews_per_month  calculated_host_listings_count  \\\n",
              "38294   2019-05-29               0.73                             327   \n",
              "38588   2019-05-21               0.60                             327   \n",
              "39771   2019-06-08               0.94                             327   \n",
              "39772   2019-06-20               1.00                             327   \n",
              "39773   2019-06-10               1.00                             327   \n",
              "...            ...                ...                             ...   \n",
              "47686  NotReviewed               0.00                             327   \n",
              "47687  NotReviewed               0.00                             327   \n",
              "47691  NotReviewed               0.00                             327   \n",
              "47692  NotReviewed               0.00                             327   \n",
              "47693  NotReviewed               0.00                             327   \n",
              "\n",
              "       availability_365  \n",
              "38294               219  \n",
              "38588               159  \n",
              "39771               137  \n",
              "39772               281  \n",
              "39773               332  \n",
              "...                 ...  \n",
              "47686               345  \n",
              "47687               338  \n",
              "47691               339  \n",
              "47692               342  \n",
              "47693               347  \n",
              "\n",
              "[238 rows x 16 columns]"
            ],
            "text/html": [
              "<div>\n",
              "<style scoped>\n",
              "    .dataframe tbody tr th:only-of-type {\n",
              "        vertical-align: middle;\n",
              "    }\n",
              "\n",
              "    .dataframe tbody tr th {\n",
              "        vertical-align: top;\n",
              "    }\n",
              "\n",
              "    .dataframe thead th {\n",
              "        text-align: right;\n",
              "    }\n",
              "</style>\n",
              "<table border=\"1\" class=\"dataframe\">\n",
              "  <thead>\n",
              "    <tr style=\"text-align: right;\">\n",
              "      <th></th>\n",
              "      <th>id</th>\n",
              "      <th>name</th>\n",
              "      <th>host_id</th>\n",
              "      <th>host_name</th>\n",
              "      <th>neighbourhood_group</th>\n",
              "      <th>neighbourhood</th>\n",
              "      <th>latitude</th>\n",
              "      <th>longitude</th>\n",
              "      <th>room_type</th>\n",
              "      <th>price</th>\n",
              "      <th>minimum_nights</th>\n",
              "      <th>number_of_reviews</th>\n",
              "      <th>last_review</th>\n",
              "      <th>reviews_per_month</th>\n",
              "      <th>calculated_host_listings_count</th>\n",
              "      <th>availability_365</th>\n",
              "    </tr>\n",
              "  </thead>\n",
              "  <tbody>\n",
              "    <tr>\n",
              "      <th>38294</th>\n",
              "      <td>30181945</td>\n",
              "      <td>Sonder | 180 Water | Premier 1BR + Rooftop</td>\n",
              "      <td>219517861</td>\n",
              "      <td>Sonder (NYC)</td>\n",
              "      <td>Manhattan</td>\n",
              "      <td>Financial District</td>\n",
              "      <td>40.70771</td>\n",
              "      <td>-74.00641</td>\n",
              "      <td>Entire home/apt</td>\n",
              "      <td>229</td>\n",
              "      <td>29</td>\n",
              "      <td>1</td>\n",
              "      <td>2019-05-29</td>\n",
              "      <td>0.73</td>\n",
              "      <td>327</td>\n",
              "      <td>219</td>\n",
              "    </tr>\n",
              "    <tr>\n",
              "      <th>38588</th>\n",
              "      <td>30347708</td>\n",
              "      <td>Sonder | 180 Water | Charming 1BR + Rooftop</td>\n",
              "      <td>219517861</td>\n",
              "      <td>Sonder (NYC)</td>\n",
              "      <td>Manhattan</td>\n",
              "      <td>Financial District</td>\n",
              "      <td>40.70743</td>\n",
              "      <td>-74.00443</td>\n",
              "      <td>Entire home/apt</td>\n",
              "      <td>232</td>\n",
              "      <td>29</td>\n",
              "      <td>1</td>\n",
              "      <td>2019-05-21</td>\n",
              "      <td>0.60</td>\n",
              "      <td>327</td>\n",
              "      <td>159</td>\n",
              "    </tr>\n",
              "    <tr>\n",
              "      <th>39771</th>\n",
              "      <td>30937594</td>\n",
              "      <td>Sonder | The Nash | Brilliant Studio + Rooftop</td>\n",
              "      <td>219517861</td>\n",
              "      <td>Sonder (NYC)</td>\n",
              "      <td>Manhattan</td>\n",
              "      <td>Murray Hill</td>\n",
              "      <td>40.74845</td>\n",
              "      <td>-73.97446</td>\n",
              "      <td>Entire home/apt</td>\n",
              "      <td>245</td>\n",
              "      <td>2</td>\n",
              "      <td>4</td>\n",
              "      <td>2019-06-08</td>\n",
              "      <td>0.94</td>\n",
              "      <td>327</td>\n",
              "      <td>137</td>\n",
              "    </tr>\n",
              "    <tr>\n",
              "      <th>39772</th>\n",
              "      <td>30937595</td>\n",
              "      <td>Sonder | 11th Ave | Bright 1BR + Gym</td>\n",
              "      <td>219517861</td>\n",
              "      <td>Sonder (NYC)</td>\n",
              "      <td>Manhattan</td>\n",
              "      <td>Hell's Kitchen</td>\n",
              "      <td>40.76188</td>\n",
              "      <td>-73.99616</td>\n",
              "      <td>Entire home/apt</td>\n",
              "      <td>185</td>\n",
              "      <td>29</td>\n",
              "      <td>1</td>\n",
              "      <td>2019-06-20</td>\n",
              "      <td>1.00</td>\n",
              "      <td>327</td>\n",
              "      <td>281</td>\n",
              "    </tr>\n",
              "    <tr>\n",
              "      <th>39773</th>\n",
              "      <td>30937596</td>\n",
              "      <td>Sonder | 11th Ave | Contemporary 1BR + Gym</td>\n",
              "      <td>219517861</td>\n",
              "      <td>Sonder (NYC)</td>\n",
              "      <td>Manhattan</td>\n",
              "      <td>Hell's Kitchen</td>\n",
              "      <td>40.76037</td>\n",
              "      <td>-73.99744</td>\n",
              "      <td>Entire home/apt</td>\n",
              "      <td>185</td>\n",
              "      <td>29</td>\n",
              "      <td>1</td>\n",
              "      <td>2019-06-10</td>\n",
              "      <td>1.00</td>\n",
              "      <td>327</td>\n",
              "      <td>332</td>\n",
              "    </tr>\n",
              "    <tr>\n",
              "      <th>...</th>\n",
              "      <td>...</td>\n",
              "      <td>...</td>\n",
              "      <td>...</td>\n",
              "      <td>...</td>\n",
              "      <td>...</td>\n",
              "      <td>...</td>\n",
              "      <td>...</td>\n",
              "      <td>...</td>\n",
              "      <td>...</td>\n",
              "      <td>...</td>\n",
              "      <td>...</td>\n",
              "      <td>...</td>\n",
              "      <td>...</td>\n",
              "      <td>...</td>\n",
              "      <td>...</td>\n",
              "      <td>...</td>\n",
              "    </tr>\n",
              "    <tr>\n",
              "      <th>47686</th>\n",
              "      <td>35869234</td>\n",
              "      <td>Sonder | 116 John | Classic 1BR + Gym</td>\n",
              "      <td>219517861</td>\n",
              "      <td>Sonder (NYC)</td>\n",
              "      <td>Manhattan</td>\n",
              "      <td>Financial District</td>\n",
              "      <td>40.70852</td>\n",
              "      <td>-74.00510</td>\n",
              "      <td>Entire home/apt</td>\n",
              "      <td>198</td>\n",
              "      <td>29</td>\n",
              "      <td>0</td>\n",
              "      <td>NotReviewed</td>\n",
              "      <td>0.00</td>\n",
              "      <td>327</td>\n",
              "      <td>345</td>\n",
              "    </tr>\n",
              "    <tr>\n",
              "      <th>47687</th>\n",
              "      <td>35869466</td>\n",
              "      <td>Sonder | 116 John | Classic Studio + Gym</td>\n",
              "      <td>219517861</td>\n",
              "      <td>Sonder (NYC)</td>\n",
              "      <td>Manhattan</td>\n",
              "      <td>Financial District</td>\n",
              "      <td>40.70802</td>\n",
              "      <td>-74.00642</td>\n",
              "      <td>Entire home/apt</td>\n",
              "      <td>180</td>\n",
              "      <td>29</td>\n",
              "      <td>0</td>\n",
              "      <td>NotReviewed</td>\n",
              "      <td>0.00</td>\n",
              "      <td>327</td>\n",
              "      <td>338</td>\n",
              "    </tr>\n",
              "    <tr>\n",
              "      <th>47691</th>\n",
              "      <td>35871510</td>\n",
              "      <td>Sonder | 116 John | Vibrant Studio + Fitness Room</td>\n",
              "      <td>219517861</td>\n",
              "      <td>Sonder (NYC)</td>\n",
              "      <td>Manhattan</td>\n",
              "      <td>Financial District</td>\n",
              "      <td>40.70818</td>\n",
              "      <td>-74.00631</td>\n",
              "      <td>Entire home/apt</td>\n",
              "      <td>135</td>\n",
              "      <td>29</td>\n",
              "      <td>0</td>\n",
              "      <td>NotReviewed</td>\n",
              "      <td>0.00</td>\n",
              "      <td>327</td>\n",
              "      <td>339</td>\n",
              "    </tr>\n",
              "    <tr>\n",
              "      <th>47692</th>\n",
              "      <td>35871511</td>\n",
              "      <td>Sonder | 116 John | Vibrant 1BR + Fitness Room</td>\n",
              "      <td>219517861</td>\n",
              "      <td>Sonder (NYC)</td>\n",
              "      <td>Manhattan</td>\n",
              "      <td>Financial District</td>\n",
              "      <td>40.70691</td>\n",
              "      <td>-74.00682</td>\n",
              "      <td>Entire home/apt</td>\n",
              "      <td>165</td>\n",
              "      <td>29</td>\n",
              "      <td>0</td>\n",
              "      <td>NotReviewed</td>\n",
              "      <td>0.00</td>\n",
              "      <td>327</td>\n",
              "      <td>342</td>\n",
              "    </tr>\n",
              "    <tr>\n",
              "      <th>47693</th>\n",
              "      <td>35871515</td>\n",
              "      <td>Sonder | 116 John | Stunning 1BR + Rooftop</td>\n",
              "      <td>219517861</td>\n",
              "      <td>Sonder (NYC)</td>\n",
              "      <td>Manhattan</td>\n",
              "      <td>Financial District</td>\n",
              "      <td>40.70772</td>\n",
              "      <td>-74.00673</td>\n",
              "      <td>Entire home/apt</td>\n",
              "      <td>165</td>\n",
              "      <td>29</td>\n",
              "      <td>0</td>\n",
              "      <td>NotReviewed</td>\n",
              "      <td>0.00</td>\n",
              "      <td>327</td>\n",
              "      <td>347</td>\n",
              "    </tr>\n",
              "  </tbody>\n",
              "</table>\n",
              "<p>238 rows × 16 columns</p>\n",
              "</div>"
            ]
          },
          "metadata": {
            "tags": []
          },
          "execution_count": 29
        }
      ]
    },
    {
      "cell_type": "markdown",
      "metadata": {
        "id": "AZ9DW11LTLBi"
      },
      "source": [
        "Listing id and Host name are not useful for our analysis so we will drop them"
      ]
    },
    {
      "cell_type": "code",
      "metadata": {
        "trusted": true,
        "id": "T_EU4NdpTLBi"
      },
      "source": [
        "\n",
        "dataset = dataset.drop(columns = [\"id\",\"host_name\"])"
      ],
      "execution_count": null,
      "outputs": []
    },
    {
      "cell_type": "code",
      "metadata": {
        "trusted": true,
        "id": "tdYRN67VTLBi"
      },
      "source": [
        "\n",
        "dataset[\"name_length\"]=dataset['name'].map(str).apply(len)\n"
      ],
      "execution_count": null,
      "outputs": []
    },
    {
      "cell_type": "code",
      "metadata": {
        "trusted": true,
        "id": "5fRNhjCHTLBi",
        "outputId": "b9b141bf-7e52-4d1d-a588-8da03ef3f57e"
      },
      "source": [
        "\n",
        "print(dataset[\"name_length\"].max())\n",
        "print(dataset[\"name_length\"].min())\n",
        "print(dataset[\"name_length\"].idxmax())\n",
        "print(dataset[\"name_length\"].idxmin())\n"
      ],
      "execution_count": null,
      "outputs": [
        {
          "output_type": "stream",
          "text": [
            "179\n",
            "1\n",
            "25832\n",
            "4033\n"
          ],
          "name": "stdout"
        }
      ]
    },
    {
      "cell_type": "code",
      "metadata": {
        "trusted": true,
        "id": "Btoq3TysTLBj",
        "outputId": "151ed8b6-6a93-4289-dae5-f39f4b12325e"
      },
      "source": [
        "### Max name \n",
        "dataset.at[25832, 'name']"
      ],
      "execution_count": null,
      "outputs": [
        {
          "output_type": "execute_result",
          "data": {
            "text/plain": [
              "'The printing studio bedroom with garden in Bedstuy  !!Brooklyn. Historic neighborhood close to everything ! Full kitchen bathroom BBQ and porch at your disposal. Learn to print !!'"
            ]
          },
          "metadata": {
            "tags": []
          },
          "execution_count": 33
        }
      ]
    },
    {
      "cell_type": "code",
      "metadata": {
        "trusted": true,
        "id": "ZlyOY7Y_TLBj",
        "outputId": "5938ab60-b1b6-4bf7-f214-ca8ae9dec436"
      },
      "source": [
        "###Min name\n",
        "dataset.at[4033, 'name']"
      ],
      "execution_count": null,
      "outputs": [
        {
          "output_type": "execute_result",
          "data": {
            "text/plain": [
              "'/'"
            ]
          },
          "metadata": {
            "tags": []
          },
          "execution_count": 34
        }
      ]
    },
    {
      "cell_type": "code",
      "metadata": {
        "trusted": true,
        "id": "0UU69z7jTLBj",
        "outputId": "f68372d9-26e6-4ebd-f25f-66ee6a8c6060"
      },
      "source": [
        "\n",
        "dataset.plot.scatter(x=\"name_length\", y =\"number_of_reviews\" )"
      ],
      "execution_count": null,
      "outputs": [
        {
          "output_type": "execute_result",
          "data": {
            "text/plain": [
              "<matplotlib.axes._subplots.AxesSubplot at 0x7ffb5102b0d0>"
            ]
          },
          "metadata": {
            "tags": []
          },
          "execution_count": 35
        },
        {
          "output_type": "display_data",
          "data": {
            "text/plain": [
              "<Figure size 432x288 with 1 Axes>"
            ],
            "image/png": "[encoded data removed]"
          },
          "metadata": {
            "tags": []
          }
        }
      ]
    },
    {
      "cell_type": "code",
      "metadata": {
        "trusted": true,
        "id": "qfv7ik1ITLBk",
        "outputId": "c0f7f085-6db3-425a-d8e2-09d80682a11e"
      },
      "source": [
        "dataset.name_length.hist()"
      ],
      "execution_count": null,
      "outputs": [
        {
          "output_type": "execute_result",
          "data": {
            "text/plain": [
              "<matplotlib.axes._subplots.AxesSubplot at 0x7ffb50553e50>"
            ]
          },
          "metadata": {
            "tags": []
          },
          "execution_count": 37
        },
        {
          "output_type": "display_data",
          "data": {
            "text/plain": [
              "<Figure size 432x288 with 1 Axes>"
            ],
            "image/png": "[encoded data removed]"
          },
          "metadata": {
            "tags": []
          }
        }
      ]
    },
    {
      "cell_type": "markdown",
      "metadata": {
        "id": "xpYkJ7MlTLBl"
      },
      "source": [
        "Again, range is between 1 night to 1250 nights. Quite odd, lets investigate"
      ]
    },
    {
      "cell_type": "code",
      "metadata": {
        "trusted": true,
        "id": "jt0EHmTwTLBl",
        "outputId": "f8479292-1812-4a20-c3ea-6349e3d0ebf4"
      },
      "source": [
        "hist_mn=dataset[\"minimum_nights\"].hist()\n",
        "hist_mn"
      ],
      "execution_count": null,
      "outputs": [
        {
          "output_type": "execute_result",
          "data": {
            "text/plain": [
              "<matplotlib.axes._subplots.AxesSubplot at 0x7ffb50619d50>"
            ]
          },
          "metadata": {
            "tags": []
          },
          "execution_count": 42
        },
        {
          "output_type": "display_data",
          "data": {
            "text/plain": [
              "<Figure size 432x288 with 1 Axes>"
            ],
            "image/png": "[encoded data removed]"
          },
          "metadata": {
            "tags": []
          }
        }
      ]
    },
    {
      "cell_type": "code",
      "metadata": {
        "trusted": true,
        "id": "asXyJ5nxTLBm",
        "outputId": "d51fb262-438e-4821-eac9-078f0dc301e3"
      },
      "source": [
        "\n",
        "hist_mn1=dataset[\"minimum_nights\"][dataset[\"minimum_nights\"]<10].hist()\n",
        "hist_mn1"
      ],
      "execution_count": null,
      "outputs": [
        {
          "output_type": "execute_result",
          "data": {
            "text/plain": [
              "<matplotlib.axes._subplots.AxesSubplot at 0x7ffb504cc610>"
            ]
          },
          "metadata": {
            "tags": []
          },
          "execution_count": 43
        },
        {
          "output_type": "display_data",
          "data": {
            "text/plain": [
              "<Figure size 432x288 with 1 Axes>"
            ],
            "image/png": "[encoded data removed]"
          },
          "metadata": {
            "tags": []
          }
        }
      ]
    },
    {
      "cell_type": "code",
      "metadata": {
        "trusted": true,
        "id": "RhYT_S-kTLBm",
        "outputId": "6f975b64-9ac3-4270-8647-b8d5d1281cca"
      },
      "source": [
        "dataset[\"minimum_nights\"][dataset[\"minimum_nights\"]>30]"
      ],
      "execution_count": null,
      "outputs": [
        {
          "output_type": "execute_result",
          "data": {
            "text/plain": [
              "6         45\n",
              "14        90\n",
              "36        60\n",
              "81        31\n",
              "106       90\n",
              "        ... \n",
              "48312     90\n",
              "48325     60\n",
              "48368     60\n",
              "48446    365\n",
              "48752     32\n",
              "Name: minimum_nights, Length: 628, dtype: int64"
            ]
          },
          "metadata": {
            "tags": []
          },
          "execution_count": 44
        }
      ]
    },
    {
      "cell_type": "code",
      "metadata": {
        "trusted": true,
        "id": "5eH1vhcVTLBm"
      },
      "source": [
        "\n",
        "dataset.loc[(dataset.minimum_nights >30),\"minimum_nights\"]=30\n"
      ],
      "execution_count": null,
      "outputs": []
    },
    {
      "cell_type": "code",
      "metadata": {
        "trusted": true,
        "id": "t7hxjMCoTLBm",
        "outputId": "6576c2c2-3202-4da4-c813-77dec0a3bcb2"
      },
      "source": [
        "hist_mn2=dataset[\"minimum_nights\"][dataset[\"minimum_nights\"]<30].hist()\n",
        "hist_mn2"
      ],
      "execution_count": null,
      "outputs": [
        {
          "output_type": "execute_result",
          "data": {
            "text/plain": [
              "<matplotlib.axes._subplots.AxesSubplot at 0x7ffb50420350>"
            ]
          },
          "metadata": {
            "tags": []
          },
          "execution_count": 46
        },
        {
          "output_type": "display_data",
          "data": {
            "text/plain": [
              "<Figure size 432x288 with 1 Axes>"
            ],
            "image/png": "[encoded data removed]"
          },
          "metadata": {
            "tags": []
          }
        }
      ]
    },
    {
      "cell_type": "code",
      "metadata": {
        "trusted": true,
        "id": "7a48c-16TLBn",
        "outputId": "cb7375be-181d-4d8a-b41a-c7472b5baf34"
      },
      "source": [
        "hist_av=dataset[\"availability_365\"].hist()\n",
        "hist_av"
      ],
      "execution_count": null,
      "outputs": [
        {
          "output_type": "execute_result",
          "data": {
            "text/plain": [
              "<matplotlib.axes._subplots.AxesSubplot at 0x7ffb50355b90>"
            ]
          },
          "metadata": {
            "tags": []
          },
          "execution_count": 49
        },
        {
          "output_type": "display_data",
          "data": {
            "text/plain": [
              "<Figure size 432x288 with 1 Axes>"
            ],
            "image/png": "[encoded data removed]"
          },
          "metadata": {
            "tags": []
          }
        }
      ]
    },
    {
      "cell_type": "code",
      "metadata": {
        "trusted": true,
        "id": "vhyqk0f2TLBn"
      },
      "source": [
        "\n",
        "dataset.drop([\"name\",'last_review',\"latitude\",'longitude'], axis=1, inplace=True)"
      ],
      "execution_count": null,
      "outputs": []
    },
    {
      "cell_type": "code",
      "metadata": {
        "trusted": true,
        "id": "AC26DjzgTLBn"
      },
      "source": [
        "\n",
        "dataset.drop([\"host_id\"], axis=1, inplace=True)"
      ],
      "execution_count": null,
      "outputs": []
    },
    {
      "cell_type": "code",
      "metadata": {
        "trusted": true,
        "id": "DIAzD_PWTLBn",
        "outputId": "75334b9f-2134-4fee-a71a-acb0e31a6441"
      },
      "source": [
        "\n",
        "corr = dataset.corr(method='pearson')\n",
        "plt.figure(figsize=(15,8))\n",
        "sns.heatmap(corr, annot=True)\n",
        "dataset.columns"
      ],
      "execution_count": null,
      "outputs": [
        {
          "output_type": "execute_result",
          "data": {
            "text/plain": [
              "Index(['neighbourhood_group', 'neighbourhood', 'room_type', 'price',\n",
              "       'minimum_nights', 'number_of_reviews', 'reviews_per_month',\n",
              "       'calculated_host_listings_count', 'availability_365', 'name_length'],\n",
              "      dtype='object')"
            ]
          },
          "metadata": {
            "tags": []
          },
          "execution_count": 52
        },
        {
          "output_type": "display_data",
          "data": {
            "text/plain": [
              "<Figure size 1080x576 with 2 Axes>"
            ],
            "image/png": "[encoded data removed]"
          },
          "metadata": {
            "tags": []
          }
        }
      ]
    },
    {
      "cell_type": "code",
      "metadata": {
        "trusted": true,
        "id": "6XUy5N7ATLBn",
        "outputId": "87a54587-6fe4-475f-ed53-de9656e68640"
      },
      "source": [
        "\n",
        "dataset.dtypes"
      ],
      "execution_count": null,
      "outputs": [
        {
          "output_type": "execute_result",
          "data": {
            "text/plain": [
              "neighbourhood_group                object\n",
              "neighbourhood                      object\n",
              "room_type                          object\n",
              "price                               int64\n",
              "minimum_nights                      int64\n",
              "number_of_reviews                   int64\n",
              "reviews_per_month                 float64\n",
              "calculated_host_listings_count      int64\n",
              "availability_365                    int64\n",
              "name_length                         int64\n",
              "dtype: object"
            ]
          },
          "metadata": {
            "tags": []
          },
          "execution_count": 53
        }
      ]
    },
    {
      "cell_type": "code",
      "metadata": {
        "trusted": true,
        "id": "WwWPjIyKTLBo"
      },
      "source": [
        "dataset_onehot1 = pd.get_dummies(dataset, columns=['neighbourhood_group',\"room_type\"], prefix = ['ng',\"rt\"],drop_first=True)\n",
        "dataset_onehot1.drop([\"neighbourhood\"], axis=1, inplace=True)"
      ],
      "execution_count": null,
      "outputs": []
    },
    {
      "cell_type": "code",
      "metadata": {
        "trusted": true,
        "id": "bjyDowY2TLBo",
        "outputId": "e1d0b0dc-83e7-424b-f1e9-f989962eb83e"
      },
      "source": [
        "\n",
        "dataset_onehot1.shape"
      ],
      "execution_count": null,
      "outputs": [
        {
          "output_type": "execute_result",
          "data": {
            "text/plain": [
              "(42669, 13)"
            ]
          },
          "metadata": {
            "tags": []
          },
          "execution_count": 56
        }
      ]
    },
    {
      "cell_type": "code",
      "metadata": {
        "trusted": true,
        "id": "9ir5JXQITLBo"
      },
      "source": [
        "X1= dataset_onehot1.loc[:, dataset_onehot1.columns != 'price']"
      ],
      "execution_count": null,
      "outputs": []
    },
    {
      "cell_type": "code",
      "metadata": {
        "trusted": true,
        "id": "9-gYP7F3TLBo"
      },
      "source": [
        "Y1 = dataset_onehot1[\"price\"]"
      ],
      "execution_count": null,
      "outputs": []
    }
  ]
}